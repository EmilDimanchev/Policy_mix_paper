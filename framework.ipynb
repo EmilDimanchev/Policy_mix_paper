# %%
import numpy as np
import pandas as pd
import matplotlib.pyplot as plt
import matplotlib as mpl
mpl.rcParams["figure.dpi"] = 300

# %%

b0 = 10 # economic cost of a pricing-only policy
b1 = 1
b2 = 1
g0 = 100 # political cost of a standard-only policy 
g1 = 2
g2 = b2*0.99 # avoid division by zero

def pc_rps(rps):
    return(g0 + g1*(100-rps)+g2*(100-rps)**2)

def cost_rps(rps):
    return(b0 + b1*rps + b2*rps**2)

# Plot
x = np.arange(0,100,1/10)
plt.plot(x, pc_rps(x))
plt.plot(x, cost_rps(x))
plt.legend(["Political cost","Economic cost"])

# Optimal share
rps_opt = (-b1+g1)/(2*b2 - 2*g2)
print('Optimal RPS share is ' + str(rps_opt))

# %%
